{
 "cells": [
  {
   "cell_type": "code",
   "execution_count": 7,
   "metadata": {},
   "outputs": [
    {
     "data": {
      "image/png": "[encoded data removed]",
      "text/plain": [
       "<Figure size 432x288 with 1 Axes>"
      ]
     },
     "metadata": {},
     "output_type": "display_data"
    }
   ],
   "source": [
    "import numpy as np\n",
    "import matplotlib.pyplot as plt\n",
    "\n",
    "np.random.seed(4)\n",
    "n=50\n",
    "x = np.random.randn(n)\n",
    "y=x * np.random.randn(n)\n",
    "\n",
    "colors = np.random.rand(n)\n",
    "plt.plot(np.unique(x),np.poly1d(np.polyfit(x,y,1))(np.unique(x)))\n",
    "\n",
    "plt.scatter(x,y,c=colors,alpha = 0.5)\n",
    "plt.show()"
   ]
  },
  {
   "cell_type": "code",
   "execution_count": 33,
   "metadata": {},
   "outputs": [],
   "source": [
    "#building dataset\n",
    "x_values = [i for i in range(11)]"
   ]
  },
  {
   "cell_type": "code",
   "execution_count": 34,
   "metadata": {},
   "outputs": [
    {
     "data": {
      "text/plain": [
       "[0, 1, 2, 3, 4, 5, 6, 7, 8, 9, 10]"
      ]
     },
     "execution_count": 34,
     "metadata": {},
     "output_type": "execute_result"
    }
   ],
   "source": [
    "x_values"
   ]
  },
  {
   "cell_type": "code",
   "execution_count": 35,
   "metadata": {},
   "outputs": [
    {
     "data": {
      "text/plain": [
       "(11,)"
      ]
     },
     "execution_count": 35,
     "metadata": {},
     "output_type": "execute_result"
    }
   ],
   "source": [
    "x_train = np.array(x_values,dtype=np.float32)\n",
    "x_train.shape"
   ]
  },
  {
   "cell_type": "code",
   "execution_count": 36,
   "metadata": {},
   "outputs": [
    {
     "data": {
      "text/plain": [
       "(11, 1)"
      ]
     },
     "execution_count": 36,
     "metadata": {},
     "output_type": "execute_result"
    }
   ],
   "source": [
    "x_train = x_train.reshape(-1,1)\n",
    "x_train.shape"
   ]
  },
  {
   "cell_type": "code",
   "execution_count": 37,
   "metadata": {},
   "outputs": [],
   "source": [
    "y_values = [2*i+1 for i in x_values]"
   ]
  },
  {
   "cell_type": "code",
   "execution_count": 38,
   "metadata": {},
   "outputs": [
    {
     "data": {
      "text/plain": [
       "[1, 3, 5, 7, 9, 11, 13, 15, 17, 19, 21]"
      ]
     },
     "execution_count": 38,
     "metadata": {},
     "output_type": "execute_result"
    }
   ],
   "source": [
    "y_values"
   ]
  },
  {
   "cell_type": "code",
   "execution_count": 39,
   "metadata": {},
   "outputs": [],
   "source": [
    "y_train = np.array(y_values,dtype=np.float32)\n",
    "y_train = y_train.reshape(-1,1)"
   ]
  },
  {
   "cell_type": "markdown",
   "metadata": {},
   "source": [
    "#### building model"
   ]
  },
  {
   "cell_type": "code",
   "execution_count": 40,
   "metadata": {},
   "outputs": [],
   "source": [
    "import torch\n",
    "import torch.nn as nn\n",
    "from torch.autograd import Variable"
   ]
  },
  {
   "cell_type": "code",
   "execution_count": 41,
   "metadata": {},
   "outputs": [],
   "source": [
    "#create class \n",
    "class LinearRegressionModel(nn.Module):\n",
    "    def __init__(self,input_size,output_size):\n",
    "        super(LinearRegressionModel, self).__init__()\n",
    "        self.Linear = nn.Linear(input_dim,output_dim)\n",
    "    \n",
    "    def forward(self,x):\n",
    "        out = self.Linear(x)\n",
    "        return out\n",
    "                 \n",
    "    \n",
    "    "
   ]
  },
  {
   "cell_type": "code",
   "execution_count": 42,
   "metadata": {},
   "outputs": [],
   "source": [
    "input_dim = 1\n",
    "output_dim =1 \n",
    "model = LinearRegressionModel(input_dim,output_dim)"
   ]
  },
  {
   "cell_type": "code",
   "execution_count": 43,
   "metadata": {},
   "outputs": [
    {
     "name": "stdout",
     "output_type": "stream",
     "text": [
      "0.4.1\n"
     ]
    }
   ],
   "source": [
    "print(torch.__version__)\n"
   ]
  },
  {
   "cell_type": "code",
   "execution_count": 44,
   "metadata": {},
   "outputs": [],
   "source": [
    "criterion = nn.MSELoss()"
   ]
  },
  {
   "cell_type": "code",
   "execution_count": 45,
   "metadata": {},
   "outputs": [],
   "source": [
    "learning_rate=0.01\n",
    "optimizer = torch.optim.SGD(model.parameters(),lr=learning_rate)"
   ]
  },
  {
   "cell_type": "code",
   "execution_count": 46,
   "metadata": {},
   "outputs": [],
   "source": [
    "epochs = 100"
   ]
  },
  {
   "cell_type": "code",
   "execution_count": 48,
   "metadata": {},
   "outputs": [
    {
     "name": "stdout",
     "output_type": "stream",
     "text": [
      "epoch 1, loss 0.07714305073022842\n",
      "epoch 2, loss 0.07628154754638672\n",
      "epoch 3, loss 0.07542985677719116\n",
      "epoch 4, loss 0.07458741217851639\n",
      "epoch 5, loss 0.07375457882881165\n",
      "epoch 6, loss 0.0729309692978859\n",
      "epoch 7, loss 0.07211652398109436\n",
      "epoch 8, loss 0.07131119817495346\n",
      "epoch 9, loss 0.07051488757133484\n",
      "epoch 10, loss 0.06972737610340118\n",
      "epoch 11, loss 0.06894883513450623\n",
      "epoch 12, loss 0.06817881017923355\n",
      "epoch 13, loss 0.06741750240325928\n",
      "epoch 14, loss 0.06666470319032669\n",
      "epoch 15, loss 0.06592027842998505\n",
      "epoch 16, loss 0.06518413871526718\n",
      "epoch 17, loss 0.06445623934268951\n",
      "epoch 18, loss 0.0637364387512207\n",
      "epoch 19, loss 0.06302481144666672\n",
      "epoch 20, loss 0.062320929020643234\n",
      "epoch 21, loss 0.06162502244114876\n",
      "epoch 22, loss 0.0609368272125721\n",
      "epoch 23, loss 0.06025638058781624\n",
      "epoch 24, loss 0.05958353728055954\n",
      "epoch 25, loss 0.05891811102628708\n",
      "epoch 26, loss 0.058260224759578705\n",
      "epoch 27, loss 0.057609673589468\n",
      "epoch 28, loss 0.056966349482536316\n",
      "epoch 29, loss 0.05633014813065529\n",
      "epoch 30, loss 0.05570113658905029\n",
      "epoch 31, loss 0.055079150944948196\n",
      "epoch 32, loss 0.054464176297187805\n",
      "epoch 33, loss 0.05385589599609375\n",
      "epoch 34, loss 0.05325460061430931\n",
      "epoch 35, loss 0.05265983194112778\n",
      "epoch 36, loss 0.052071794867515564\n",
      "epoch 37, loss 0.05149032548069954\n",
      "epoch 38, loss 0.05091528221964836\n",
      "epoch 39, loss 0.05034666880965233\n",
      "epoch 40, loss 0.04978442192077637\n",
      "epoch 41, loss 0.04922863841056824\n",
      "epoch 42, loss 0.04867882281541824\n",
      "epoch 43, loss 0.04813532158732414\n",
      "epoch 44, loss 0.04759780690073967\n",
      "epoch 45, loss 0.0470663383603096\n",
      "epoch 46, loss 0.046540625393390656\n",
      "epoch 47, loss 0.04602101817727089\n",
      "epoch 48, loss 0.04550711810588837\n",
      "epoch 49, loss 0.04499882459640503\n",
      "epoch 50, loss 0.04449639841914177\n",
      "epoch 51, loss 0.04399939998984337\n",
      "epoch 52, loss 0.0435081347823143\n",
      "epoch 53, loss 0.043022338300943375\n",
      "epoch 54, loss 0.042541924864053726\n",
      "epoch 55, loss 0.04206673428416252\n",
      "epoch 56, loss 0.04159704968333244\n",
      "epoch 57, loss 0.04113252833485603\n",
      "epoch 58, loss 0.04067327827215195\n",
      "epoch 59, loss 0.040219008922576904\n",
      "epoch 60, loss 0.03976986184716225\n",
      "epoch 61, loss 0.03932575136423111\n",
      "epoch 62, loss 0.038886573165655136\n",
      "epoch 63, loss 0.03845236077904701\n",
      "epoch 64, loss 0.03802298754453659\n",
      "epoch 65, loss 0.03759842365980148\n",
      "epoch 66, loss 0.03717857599258423\n",
      "epoch 67, loss 0.03676343336701393\n",
      "epoch 68, loss 0.036352962255477905\n",
      "epoch 69, loss 0.03594697266817093\n",
      "epoch 70, loss 0.03554558753967285\n",
      "epoch 71, loss 0.03514857217669487\n",
      "epoch 72, loss 0.03475615382194519\n",
      "epoch 73, loss 0.034367892891168594\n",
      "epoch 74, loss 0.03398412838578224\n",
      "epoch 75, loss 0.0336047038435936\n",
      "epoch 76, loss 0.03322935849428177\n",
      "epoch 77, loss 0.03285828232765198\n",
      "epoch 78, loss 0.03249141573905945\n",
      "epoch 79, loss 0.03212863579392433\n",
      "epoch 80, loss 0.03176986798644066\n",
      "epoch 81, loss 0.031415101140737534\n",
      "epoch 82, loss 0.031064236536622047\n",
      "epoch 83, loss 0.03071734681725502\n",
      "epoch 84, loss 0.03037433512508869\n",
      "epoch 85, loss 0.030035236850380898\n",
      "epoch 86, loss 0.02969978004693985\n",
      "epoch 87, loss 0.029368162155151367\n",
      "epoch 88, loss 0.029040202498435974\n",
      "epoch 89, loss 0.02871580794453621\n",
      "epoch 90, loss 0.028395207598805428\n",
      "epoch 91, loss 0.028078079223632812\n",
      "epoch 92, loss 0.027764631435275078\n",
      "epoch 93, loss 0.027454577386379242\n",
      "epoch 94, loss 0.027148006483912468\n",
      "epoch 95, loss 0.02684473618865013\n",
      "epoch 96, loss 0.026545057073235512\n",
      "epoch 97, loss 0.026248618960380554\n",
      "epoch 98, loss 0.02595548704266548\n",
      "epoch 99, loss 0.025665637105703354\n",
      "epoch 100, loss 0.025379056110978127\n"
     ]
    },
    {
     "name": "stderr",
     "output_type": "stream",
     "text": [
      "D:\\anaconda\\envs\\gpuENV\\lib\\site-packages\\ipykernel_launcher.py:11: UserWarning: invalid index of a 0-dim tensor. This will be an error in PyTorch 0.5. Use tensor.item() to convert a 0-dim tensor to a Python number\n",
      "  # This is added back by InteractiveShellApp.init_path()\n"
     ]
    }
   ],
   "source": [
    "for epoch in range(epochs):\n",
    "    epoch += 1\n",
    "    inputs = Variable(torch.from_numpy(x_train))\n",
    "    labels = Variable(torch.from_numpy(y_train))\n",
    "    \n",
    "    optimizer.zero_grad()\n",
    "    outputs = model(inputs)\n",
    "    loss = criterion(outputs,labels)\n",
    "    loss.backward()\n",
    "    optimizer.step()\n",
    "    print('epoch {}, loss {}'.format(epoch,loss.data[0]))"
   ]
  },
  {
   "cell_type": "code",
   "execution_count": 49,
   "metadata": {},
   "outputs": [
    {
     "data": {
      "text/plain": [
       "array([[ 0.7036548],\n",
       "       [ 2.7463312],\n",
       "       [ 4.7890077],\n",
       "       [ 6.831684 ],\n",
       "       [ 8.874361 ],\n",
       "       [10.917038 ],\n",
       "       [12.959714 ],\n",
       "       [15.00239  ],\n",
       "       [17.045067 ],\n",
       "       [19.087744 ],\n",
       "       [21.13042  ]], dtype=float32)"
      ]
     },
     "execution_count": 49,
     "metadata": {},
     "output_type": "execute_result"
    }
   ],
   "source": [
    "predicted = model(Variable(torch.from_numpy(x_train))).data.numpy()\n",
    "predicted"
   ]
  },
  {
   "cell_type": "code",
   "execution_count": 50,
   "metadata": {},
   "outputs": [
    {
     "data": {
      "text/plain": [
       "array([[ 1.],\n",
       "       [ 3.],\n",
       "       [ 5.],\n",
       "       [ 7.],\n",
       "       [ 9.],\n",
       "       [11.],\n",
       "       [13.],\n",
       "       [15.],\n",
       "       [17.],\n",
       "       [19.],\n",
       "       [21.]], dtype=float32)"
      ]
     },
     "execution_count": 50,
     "metadata": {},
     "output_type": "execute_result"
    }
   ],
   "source": [
    "y_train"
   ]
  },
  {
   "cell_type": "markdown",
   "metadata": {},
   "source": [
    "save model"
   ]
  },
  {
   "cell_type": "code",
   "execution_count": 51,
   "metadata": {},
   "outputs": [],
   "source": [
    "save_model = False\n",
    "if save_model is True:\n",
    "    torch.save(model.state_dict(),'awesome.pkl')\n",
    "    "
   ]
  },
  {
   "cell_type": "markdown",
   "metadata": {},
   "source": [
    "load model"
   ]
  },
  {
   "cell_type": "code",
   "execution_count": 52,
   "metadata": {},
   "outputs": [],
   "source": [
    "load_model = False\n",
    "if load_model is True:\n",
    "    model.load_state_dict(torch.load('awesome.pkl'))"
   ]
  },
  {
   "cell_type": "markdown",
   "metadata": {},
   "source": [
    "# linear regression model with gpu"
   ]
  },
  {
   "cell_type": "code",
   "execution_count": 53,
   "metadata": {},
   "outputs": [
    {
     "name": "stdout",
     "output_type": "stream",
     "text": [
      "epoch 1, loss 85.0634536743164\n",
      "epoch 2, loss 7.472680568695068\n",
      "epoch 3, loss 1.1378769874572754\n",
      "epoch 4, loss 0.6152673363685608\n",
      "epoch 5, loss 0.5668055415153503\n",
      "epoch 6, loss 0.5570837259292603\n",
      "epoch 7, loss 0.5505861043930054\n",
      "epoch 8, loss 0.5444150567054749\n",
      "epoch 9, loss 0.5383338332176208\n",
      "epoch 10, loss 0.532322347164154\n",
      "epoch 11, loss 0.5263777375221252\n",
      "epoch 12, loss 0.5204998850822449\n",
      "epoch 13, loss 0.5146875977516174\n",
      "epoch 14, loss 0.5089401006698608\n",
      "epoch 15, loss 0.5032569169998169\n",
      "epoch 16, loss 0.497637003660202\n",
      "epoch 17, loss 0.4920801818370819\n",
      "epoch 18, loss 0.48658502101898193\n",
      "epoch 19, loss 0.4811514914035797\n",
      "epoch 20, loss 0.47577860951423645\n",
      "epoch 21, loss 0.4704655408859253\n",
      "epoch 22, loss 0.4652118682861328\n",
      "epoch 23, loss 0.46001699566841125\n",
      "epoch 24, loss 0.4548800587654114\n",
      "epoch 25, loss 0.44980061054229736\n",
      "epoch 26, loss 0.44477778673171997\n",
      "epoch 27, loss 0.43981078267097473\n",
      "epoch 28, loss 0.43489959836006165\n",
      "epoch 29, loss 0.43004322052001953\n",
      "epoch 30, loss 0.4252409040927887\n",
      "epoch 31, loss 0.42049238085746765\n",
      "epoch 32, loss 0.4157969653606415\n",
      "epoch 33, loss 0.4111538231372833\n",
      "epoch 34, loss 0.40656235814094543\n",
      "epoch 35, loss 0.4020223617553711\n",
      "epoch 36, loss 0.3975330591201782\n",
      "epoch 37, loss 0.3930937647819519\n",
      "epoch 38, loss 0.3887041211128235\n",
      "epoch 39, loss 0.3843635618686676\n",
      "epoch 40, loss 0.3800714612007141\n",
      "epoch 41, loss 0.37582719326019287\n",
      "epoch 42, loss 0.37163046002388\n",
      "epoch 43, loss 0.36748072504997253\n",
      "epoch 44, loss 0.3633769750595093\n",
      "epoch 45, loss 0.3593192994594574\n",
      "epoch 46, loss 0.35530659556388855\n",
      "epoch 47, loss 0.3513390123844147\n",
      "epoch 48, loss 0.3474157154560089\n",
      "epoch 49, loss 0.34353622794151306\n",
      "epoch 50, loss 0.33969980478286743\n",
      "epoch 51, loss 0.3359065055847168\n",
      "epoch 52, loss 0.3321554958820343\n",
      "epoch 53, loss 0.32844650745391846\n",
      "epoch 54, loss 0.32477864623069763\n",
      "epoch 55, loss 0.321152001619339\n",
      "epoch 56, loss 0.3175656795501709\n",
      "epoch 57, loss 0.3140196204185486\n",
      "epoch 58, loss 0.31051281094551086\n",
      "epoch 59, loss 0.30704548954963684\n",
      "epoch 60, loss 0.3036167323589325\n",
      "epoch 61, loss 0.30022621154785156\n",
      "epoch 62, loss 0.29687368869781494\n",
      "epoch 63, loss 0.29355868697166443\n",
      "epoch 64, loss 0.2902804911136627\n",
      "epoch 65, loss 0.28703898191452026\n",
      "epoch 66, loss 0.2838335633277893\n",
      "epoch 67, loss 0.28066399693489075\n",
      "epoch 68, loss 0.2775299847126007\n",
      "epoch 69, loss 0.2744308114051819\n",
      "epoch 70, loss 0.2713661193847656\n",
      "epoch 71, loss 0.2683359682559967\n",
      "epoch 72, loss 0.26533961296081543\n",
      "epoch 73, loss 0.262376606464386\n",
      "epoch 74, loss 0.2594466209411621\n",
      "epoch 75, loss 0.25654950737953186\n",
      "epoch 76, loss 0.25368455052375793\n",
      "epoch 77, loss 0.25085172057151794\n",
      "epoch 78, loss 0.24805055558681488\n",
      "epoch 79, loss 0.24528054893016815\n",
      "epoch 80, loss 0.24254149198532104\n",
      "epoch 81, loss 0.23983316123485565\n",
      "epoch 82, loss 0.23715513944625854\n",
      "epoch 83, loss 0.2345067858695984\n",
      "epoch 84, loss 0.2318880409002304\n",
      "epoch 85, loss 0.229298397898674\n",
      "epoch 86, loss 0.22673797607421875\n",
      "epoch 87, loss 0.22420597076416016\n",
      "epoch 88, loss 0.22170238196849823\n",
      "epoch 89, loss 0.2192266881465912\n",
      "epoch 90, loss 0.21677856147289276\n",
      "epoch 91, loss 0.21435795724391937\n",
      "epoch 92, loss 0.21196423470973969\n",
      "epoch 93, loss 0.20959720015525818\n",
      "epoch 94, loss 0.20725670456886292\n",
      "epoch 95, loss 0.20494231581687927\n",
      "epoch 96, loss 0.20265375077724457\n",
      "epoch 97, loss 0.20039072632789612\n",
      "epoch 98, loss 0.19815295934677124\n",
      "epoch 99, loss 0.195940300822258\n",
      "epoch 100, loss 0.19375209510326385\n"
     ]
    },
    {
     "name": "stderr",
     "output_type": "stream",
     "text": [
      "D:\\anaconda\\envs\\gpuENV\\lib\\site-packages\\ipykernel_launcher.py:40: UserWarning: invalid index of a 0-dim tensor. This will be an error in PyTorch 0.5. Use tensor.item() to convert a 0-dim tensor to a Python number\n"
     ]
    }
   ],
   "source": [
    "import torch\n",
    "import torch.nn as nn\n",
    "from torch.autograd import Variable\n",
    "\n",
    "#create class \n",
    "class LinearRegressionModel(nn.Module):\n",
    "    def __init__(self,input_size,output_size):\n",
    "        super(LinearRegressionModel, self).__init__()\n",
    "        self.Linear = nn.Linear(input_dim,output_dim)\n",
    "    \n",
    "    def forward(self,x):\n",
    "        out = self.Linear(x)\n",
    "        return out\n",
    "\n",
    "input_dim = 1\n",
    "output_dim =1 \n",
    "model = LinearRegressionModel(input_dim,output_dim)\n",
    "\n",
    "if torch.cuda.is_available():\n",
    "    model.cuda()\n",
    "\n",
    "criterion = nn.MSELoss()\n",
    "\n",
    "\n",
    "learning_rate=0.01\n",
    "optimizer = torch.optim.SGD(model.parameters(),lr=learning_rate)\n",
    "\n",
    "epochs = 100\n",
    "for epoch in range(epochs):\n",
    "    epoch += 1\n",
    "    if torch.cuda.is_available():\n",
    "        inputs = Variable(torch.from_numpy(x_train).cuda())\n",
    "        labels = Variable(torch.from_numpy(y_train).cuda())\n",
    "    \n",
    "    optimizer.zero_grad()\n",
    "    outputs = model(inputs)\n",
    "    loss = criterion(outputs,labels)\n",
    "    loss.backward()\n",
    "    optimizer.step()\n",
    "    print('epoch {}, loss {}'.format(epoch,loss.data[0]))\n"
   ]
  },
  {
   "cell_type": "code",
   "execution_count": null,
   "metadata": {},
   "outputs": [],
   "source": []
  }
 ],
 "metadata": {
  "kernelspec": {
   "display_name": "Python 3",
   "language": "python",
   "name": "python3"
  },
  "language_info": {
   "codemirror_mode": {
    "name": "ipython",
    "version": 3
   },
   "file_extension": ".py",
   "mimetype": "text/x-python",
   "name": "python",
   "nbconvert_exporter": "python",
   "pygments_lexer": "ipython3",
   "version": "3.6.6"
  }
 },
 "nbformat": 4,
 "nbformat_minor": 2
}
